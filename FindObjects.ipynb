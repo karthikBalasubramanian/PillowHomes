{
 "cells": [
  {
   "cell_type": "code",
   "execution_count": 3,
   "metadata": {
    "collapsed": false
   },
   "outputs": [],
   "source": [
    "import pandas as pd"
   ]
  },
  {
   "cell_type": "code",
   "execution_count": 4,
   "metadata": {
    "collapsed": true
   },
   "outputs": [],
   "source": [
    "df =  pd.read_csv('dataset.csv')"
   ]
  },
  {
   "cell_type": "code",
   "execution_count": 7,
   "metadata": {
    "collapsed": false
   },
   "outputs": [],
   "source": [
    "lst = list(df.picture_urls)"
   ]
  },
  {
   "cell_type": "code",
   "execution_count": 20,
   "metadata": {
    "collapsed": false
   },
   "outputs": [],
   "source": [
    "final_list = list()\n",
    "for each_list in lst:\n",
    "    each_list = each_list.replace(\"[\",\"\")\n",
    "    each_list = each_list.replace(\"]\",\"\")\n",
    "    \n",
    "    each_list = each_list.split(\",\")\n",
    "    each_list = map(lambda x:x.strip().encode('ascii'),each_list)\n",
    "    final_list.extend(each_list)\n",
    "\n",
    "final_list = map(lambda x: x.encode('ascii'),final_list)"
   ]
  },
  {
   "cell_type": "code",
   "execution_count": 23,
   "metadata": {
    "collapsed": false
   },
   "outputs": [],
   "source": [
    "for index,val in enumerate(final_list):\n",
    "    val = val.replace(\"u'\",\"\")\n",
    "    val = val.replace(\"'\",\"\")\n",
    "    final_list[index]=val"
   ]
  },
  {
   "cell_type": "code",
   "execution_count": 25,
   "metadata": {
    "collapsed": false
   },
   "outputs": [],
   "source": [
    "url_file = open('url_file.txt', 'w')\n",
    "\n",
    "for each_url in final_list:\n",
    "    print>>url_file, each_url"
   ]
  }
 ],
 "metadata": {
  "kernelspec": {
   "display_name": "Python [default]",
   "language": "python",
   "name": "python2"
  },
  "language_info": {
   "codemirror_mode": {
    "name": "ipython",
    "version": 2
   },
   "file_extension": ".py",
   "mimetype": "text/x-python",
   "name": "python",
   "nbconvert_exporter": "python",
   "pygments_lexer": "ipython2",
   "version": "2.7.13"
  }
 },
 "nbformat": 4,
 "nbformat_minor": 1
}
